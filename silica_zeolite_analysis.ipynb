{
 "cells": [
  {
   "cell_type": "markdown",
   "id": "a912165a",
   "metadata": {},
   "source": [
    "# Silica, Zeolite, and Glass Energy/CO₂ Analysis\n",
    "This notebook loads and analyzes energy and emissions data from silica, zeolite, and soda-lime glass production."
   ]
  },
  {
   "cell_type": "code",
   "execution_count": null,
   "id": "fffa800a",
   "metadata": {},
   "outputs": [],
   "source": [
    "# 📁 Upload your CSV file (Colab)\n",
    "from google.colab import files\n",
    "uploaded = files.upload()\n"
   ]
  },
  {
   "cell_type": "code",
   "execution_count": null,
   "id": "8ef53076",
   "metadata": {},
   "outputs": [],
   "source": [
    "# 📊 Load and view the data\n",
    "import pandas as pd\n",
    "import numpy as np\n",
    "import matplotlib.pyplot as plt\n",
    "import seaborn as sns\n",
    "import re\n",
    "\n",
    "df = pd.read_csv('energy_emissions_data.csv')\n",
    "\n",
    "def parse_range(x):\n",
    "    if isinstance(x, str) and '-' in x:\n",
    "        nums = [float(v) for v in re.findall(r\"\\d+\\.?\\d*\", x)]\n",
    "        return np.mean(nums) if nums else np.nan\n",
    "    return x\n",
    "\n",
    "df['Energy (kWh/ton)'] = df['Energy (kWh/ton)'].apply(parse_range).astype(float)\n",
    "df['CO₂ Emissions (kg/ton)'] = df['CO₂ Emissions (kg/ton)'].apply(parse_range).astype(float)\n",
    "\n",
    "df.head()\n"
   ]
  },
  {
   "cell_type": "code",
   "execution_count": null,
   "id": "24fdb278",
   "metadata": {},
   "outputs": [],
   "source": [
    "# 🔋 Energy Use by Process Stage and Material\n",
    "plt.figure(figsize=(12,6))\n",
    "sns.barplot(data=df, x='Process Stage', y='Energy (kWh/ton)', hue='Material Type')\n",
    "plt.title('Energy Use by Process Stage')\n",
    "plt.xticks(rotation=45)\n",
    "plt.tight_layout()\n",
    "plt.show()\n"
   ]
  },
  {
   "cell_type": "code",
   "execution_count": null,
   "id": "3943b564",
   "metadata": {},
   "outputs": [],
   "source": [
    "# 🌍 CO₂ Emissions by Process Stage and Material\n",
    "plt.figure(figsize=(12,6))\n",
    "sns.barplot(data=df, x='Process Stage', y='CO₂ Emissions (kg/ton)', hue='Material Type')\n",
    "plt.title('CO₂ Emissions by Process Stage')\n",
    "plt.xticks(rotation=45)\n",
    "plt.tight_layout()\n",
    "plt.show()\n"
   ]
  }
 ],
 "metadata": {},
 "nbformat": 4,
 "nbformat_minor": 5
}
